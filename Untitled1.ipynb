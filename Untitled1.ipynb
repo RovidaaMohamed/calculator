{
 "cells": [
  {
   "cell_type": "code",
   "execution_count": 4,
   "id": "a1f17132-f954-4bd9-9bf0-3fee130e865e",
   "metadata": {},
   "outputs": [
    {
     "name": "stdin",
     "output_type": "stream",
     "text": [
      "Enter first number:  5\n",
      "Enter second number:  0\n"
     ]
    },
    {
     "name": "stdout",
     "output_type": "stream",
     "text": [
      "Select operation:\n",
      "1. Add\n",
      "2. Subtract\n",
      "3. Multiply\n",
      "4. Divide\n"
     ]
    },
    {
     "name": "stdin",
     "output_type": "stream",
     "text": [
      "Enter choice (1/2/3/4):  4\n"
     ]
    },
    {
     "name": "stdout",
     "output_type": "stream",
     "text": [
      "not allow\n"
     ]
    }
   ],
   "source": [
    "# calculator\n",
    "n1=float(input(\"Enter first number: \"))\n",
    "n2=float(input(\"Enter second number: \"))\n",
    "print(\"Select operation:\")\n",
    "print(\"1. Add\")\n",
    "print(\"2. Subtract\")\n",
    "print(\"3. Multiply\")\n",
    "print(\"4. Divide\")\n",
    "choice = float(input(\"Enter choice (1/2/3/4): \"))\n",
    "if choice == 1:\n",
    "    print(f\"{n1 + n2}\")\n",
    "elif choice == 2:\n",
    "    print(f\"{n1 - n2}\")\n",
    "elif choice == 3:\n",
    "    print(f\"{n1 * n2}\")\n",
    "elif choice == 4:\n",
    "    if n2 != 0:\n",
    "        print(f\"{n1 / n2}\")\n",
    "    else:\n",
    "        print(\"not allow\")\n",
    "else:\n",
    "    print(\"Invalid input\")"
   ]
  },
  {
   "cell_type": "code",
   "execution_count": null,
   "id": "bb5120b2-9847-4c25-a510-f2ee55949e1a",
   "metadata": {},
   "outputs": [],
   "source": []
  }
 ],
 "metadata": {
  "kernelspec": {
   "display_name": "Python 3 (ipykernel)",
   "language": "python",
   "name": "python3"
  },
  "language_info": {
   "codemirror_mode": {
    "name": "ipython",
    "version": 3
   },
   "file_extension": ".py",
   "mimetype": "text/x-python",
   "name": "python",
   "nbconvert_exporter": "python",
   "pygments_lexer": "ipython3",
   "version": "3.12.4"
  }
 },
 "nbformat": 4,
 "nbformat_minor": 5
}
